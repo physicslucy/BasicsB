{
 "cells": [
  {
   "cell_type": "markdown",
   "metadata": {},
   "source": [
    "### <font color='mediumblue'> Lists"
   ]
  },
  {
   "cell_type": "markdown",
   "metadata": {},
   "source": [
    "#### <font color='midnightblue'> Example: Indexed"
   ]
  },
  {
   "cell_type": "code",
   "execution_count": null,
   "metadata": {
    "collapsed": false
   },
   "outputs": [],
   "source": [
    "list1 = [10, 12, 14, 16, 18]\n",
    "\n",
    "print(list1[0])      # Index starts at 0\n",
    "\n",
    "print(list1[-1])     # Last index at -1"
   ]
  },
  {
   "cell_type": "markdown",
   "metadata": {},
   "source": [
    "#### <font color='midnightblue'> Example: Slicable"
   ]
  },
  {
   "cell_type": "code",
   "execution_count": null,
   "metadata": {
    "collapsed": false
   },
   "outputs": [],
   "source": [
    "print(list1[0:3])    # Slicing: exclusive of end value\n",
    "                     #  i.e. get i=(0, 1, .. n-1)\n",
    "\n",
    "print(list1[3:])     # \"slice from i=3 to end\""
   ]
  },
  {
   "cell_type": "markdown",
   "metadata": {},
   "source": [
    "#### <font color='midnightblue'> Example: Mutable & Mixed Data Types"
   ]
  },
  {
   "cell_type": "code",
   "execution_count": null,
   "metadata": {
    "collapsed": false
   },
   "outputs": [],
   "source": [
    "list1.append(20)\n",
    "print(list1)\n",
    "\n",
    "list1.extend([22,24,26])\n",
    "print(list1)\n",
    "\n",
    "list1[3]='squirrel'\n",
    "print(list1)\n",
    "\n",
    "list1.remove('squirrel')\n",
    "print(list1)\n",
    "\n",
    "list1.insert(3,16)\n",
    "print(list1)"
   ]
  },
  {
   "cell_type": "markdown",
   "metadata": {},
   "source": [
    "### <font color='mediumblue'> Tuples"
   ]
  },
  {
   "cell_type": "markdown",
   "metadata": {},
   "source": [
    "#### <font color='midnightblue'> Example: Immutable"
   ]
  },
  {
   "cell_type": "code",
   "execution_count": null,
   "metadata": {
    "collapsed": false
   },
   "outputs": [],
   "source": [
    "tuple1 = (10, 12, 14, 16, 18)\n",
    "print(tuple1)\n",
    "print(tuple1[0])\n",
    "print(tuple1[1:3])\n",
    "print(tuple1[3:])\n",
    "\n",
    "tuple1.append(20)\n",
    "print(tuple1)"
   ]
  },
  {
   "cell_type": "markdown",
   "metadata": {},
   "source": [
    "#### <font color='midnightblue'> Example: Tuples are faster"
   ]
  },
  {
   "cell_type": "code",
   "execution_count": null,
   "metadata": {
    "collapsed": false
   },
   "outputs": [],
   "source": [
    "%timeit tuple1=(10,12,14,16,18)\n",
    "%timeit list1=[10,12,14,16,18]\n",
    "#%timeit tuple1[3:]\n",
    "#%timeit list1[3:]"
   ]
  },
  {
   "cell_type": "markdown",
   "metadata": {},
   "source": [
    "#### <font color='midnightblue'> Example: Unpacking Tuples"
   ]
  },
  {
   "cell_type": "code",
   "execution_count": null,
   "metadata": {
    "collapsed": false
   },
   "outputs": [],
   "source": [
    "tuple2 = 'Lucy','Ryan'\n",
    "a, b = tuple2\n",
    "print('{} is OK, {} is amazing!'.format(a, b))\n",
    "\n",
    "b, a = a, b\n",
    "print('{} is OK, {} is amazing!'.format(a, b))"
   ]
  },
  {
   "cell_type": "code",
   "execution_count": null,
   "metadata": {
    "collapsed": false
   },
   "outputs": [],
   "source": [
    "ages = [('Lucy', 25), ('Ryan', 24)]\n",
    "\n",
    "for name, age in ages:\n",
    "    print('{} is {}.'.format(name, age))"
   ]
  },
  {
   "cell_type": "markdown",
   "metadata": {},
   "source": [
    "#### <font color='midnightblue'> Example: Python is Call by value"
   ]
  },
  {
   "cell_type": "code",
   "execution_count": null,
   "metadata": {
    "collapsed": false
   },
   "outputs": [],
   "source": [
    "list2 = [list1, tuple1]\n",
    "list1 = [1, 2 , 3]\n",
    "print(list2)"
   ]
  },
  {
   "cell_type": "markdown",
   "metadata": {},
   "source": [
    "### <font color='mediumblue'> Numpy Arrays"
   ]
  },
  {
   "cell_type": "markdown",
   "metadata": {},
   "source": [
    "#### <font color='midnightblue'> Example: How to use"
   ]
  },
  {
   "cell_type": "code",
   "execution_count": null,
   "metadata": {
    "collapsed": false
   },
   "outputs": [],
   "source": [
    "# To use numpy, we first have to import the package\n",
    "import numpy as np\n",
    "\n",
    "# Can convert a list to an array:\n",
    "array1=np.array(list1)\n",
    "print(array1)\n",
    "\n",
    "\n",
    "# Can make an evenly spaced array between 2 values using linspace or arange.\n",
    "# linspace takes the number of points to use as an argument and returns floats by default\n",
    "print(np.linspace(0, 10, 11))\n",
    "\n",
    "# arange takes the spacing as an argument and returns the type given as the spacing, e.g.\n",
    "print(np.arange(0, 11, 1.)) \n",
    "print(np.arange(0, 11, 1))"
   ]
  },
  {
   "cell_type": "markdown",
   "metadata": {},
   "source": [
    "#### <font color='midnightblue'> Example: Useful functions"
   ]
  },
  {
   "cell_type": "code",
   "execution_count": null,
   "metadata": {
    "collapsed": false
   },
   "outputs": [],
   "source": [
    "print('The average of array1 is', np.average(array1))\n",
    "print('The sum of array1 is', np.sum(array1))\n",
    "\n",
    "# Apply functions\n",
    "print(np.exp(array1))\n",
    "print(np.reciprocal(array1))\n",
    "\n",
    "array2=np.array([float(array1[i]) for i in range(len(array1))])\n",
    "a=np.reciprocal(array2)\n",
    "\n",
    "print(np.reciprocal([float(array1[i]) for i in range(len(array1))]))\n",
    "\n",
    "angles=np.array([0, np.pi/2., np.pi, 3*np.pi/4.])\n",
    "np.sin(angles)\n"
   ]
  },
  {
   "cell_type": "markdown",
   "metadata": {},
   "source": [
    " #### <font color='midnightblue'> Example: 2d Arrays"
   ]
  },
  {
   "cell_type": "code",
   "execution_count": null,
   "metadata": {
    "collapsed": false
   },
   "outputs": [],
   "source": [
    "M1 = np.array([[2,3],[6,3]])\n",
    "M2 = np.array([[5,6],[2,9]])\n",
    "\n",
    "print('M1:')\n",
    "print(M1)\n",
    "\n",
    "print('M2:')\n",
    "print(M2)"
   ]
  },
  {
   "cell_type": "code",
   "execution_count": null,
   "metadata": {
    "collapsed": false
   },
   "outputs": [],
   "source": [
    "M3 = M1 * M2            # Element-wise multiplication\n",
    "print(M3, '\\n')\n",
    "\n",
    "M4 = np.dot(M1, M2)     # Matrix multiplication\n",
    "print(M4)"
   ]
  },
  {
   "cell_type": "markdown",
   "metadata": {},
   "source": [
    "#### <font color='midnightblue'> Example: Creating an array from a file"
   ]
  },
  {
   "cell_type": "code",
   "execution_count": null,
   "metadata": {
    "collapsed": false
   },
   "outputs": [],
   "source": [
    "premier_league_data = np.loadtxt('example.csv')\n",
    "print(premier_league_data)\n",
    "print(type(premier_league_data[0][0]))"
   ]
  },
  {
   "cell_type": "markdown",
   "metadata": {
    "collapsed": true
   },
   "source": [
    "### <font color='mediumblue'> Dictionaries"
   ]
  },
  {
   "cell_type": "markdown",
   "metadata": {},
   "source": [
    "#### <font color='midnightblue'> Example: How to use"
   ]
  },
  {
   "cell_type": "code",
   "execution_count": null,
   "metadata": {
    "collapsed": false
   },
   "outputs": [],
   "source": [
    "price_table = {'apples': 50, 'pears': 60, 'bananas': 20}\n",
    "print(price_table)\n",
    "\n",
    "fruit = [('apples', 50), ('bananas', 20), ('pears', 60)]\n",
    "price_table1 = dict(fruit)\n",
    "print(price_table==price_table1)\n",
    "\n",
    "# NOTE: the order when you define a dictionary doesn't matter, it's ordered with a hashtable not \n",
    "# with indexing lists and tuples\n",
    "\n",
    "# To get a value out, you use square brackets but instead of an index, you use the key:\n",
    "akey = 'apples'\n",
    "print(\"The price of {} is {}p.\".format(akey, price_table[akey]))\n",
    "\n",
    "# Trying to use an index wouldn't work:\n",
    "print(price_table[0])"
   ]
  },
  {
   "cell_type": "code",
   "execution_count": null,
   "metadata": {
    "collapsed": false
   },
   "outputs": [],
   "source": [
    "price_table.keys()"
   ]
  },
  {
   "cell_type": "code",
   "execution_count": null,
   "metadata": {
    "collapsed": false
   },
   "outputs": [],
   "source": [
    "# Example usage: \n",
    "shopping_list = [('apples', 50), ('bananas', 20)]\n",
    "total = 0\n",
    "for item, quantity in shopping_list:\n",
    "    price = price_table[item]\n",
    "    print('Adding {} {} at {}p each.'.format(quantity, item, price))\n",
    "    total += price * quantity\n",
    "\n",
    "print('Total shopping cost is £%.2f.' %(total/100.))"
   ]
  },
  {
   "cell_type": "markdown",
   "metadata": {},
   "source": [
    "#### <font color='midnightblue'> Example: Mutable"
   ]
  },
  {
   "cell_type": "code",
   "execution_count": null,
   "metadata": {
    "collapsed": false
   },
   "outputs": [],
   "source": [
    "price_table['kiwis']=30\n",
    "print(price_table)\n",
    "\n",
    "del price_table['bananas']\n",
    "print(price_table)\n",
    "\n",
    "price_table['apples']=25\n",
    "print(price_table)\n"
   ]
  },
  {
   "cell_type": "markdown",
   "metadata": {},
   "source": [
    "#### <font color='midnightblue'> Example: Iterating"
   ]
  },
  {
   "cell_type": "code",
   "execution_count": null,
   "metadata": {
    "collapsed": false
   },
   "outputs": [],
   "source": [
    "# Iterating over the dictionary will iterate over its keys\n",
    "for key in price_table:\n",
    "    print(\"{} cost {}p\".format(key, price_table[key]))"
   ]
  },
  {
   "cell_type": "code",
   "execution_count": null,
   "metadata": {
    "collapsed": false
   },
   "outputs": [],
   "source": [
    "# Or use the items method:\n",
    "for key, val in price_table.items():\n",
    "    print(\"{} cost {}p\".format(key, val))"
   ]
  },
  {
   "cell_type": "markdown",
   "metadata": {},
   "source": [
    "# <font color='dodgerblue'> Functions"
   ]
  },
  {
   "cell_type": "markdown",
   "metadata": {},
   "source": [
    "#### <font color='midnightblue'> Example: Simple function"
   ]
  },
  {
   "cell_type": "code",
   "execution_count": null,
   "metadata": {
    "collapsed": false
   },
   "outputs": [],
   "source": [
    "def square_root(x):\n",
    "    \"\"\"Useful docstring: Calculates and returns square root of x\"\"\"\n",
    "    i = x ** 0.5\n",
    "    return i\n",
    "\n",
    "\n",
    "x = 10\n",
    "y = square_root(x)\n",
    "print('The square root of {} is {}'.format(x, y))\n",
    "\n",
    "# We can set a default value to the function \n",
    "def square_root(x=20):\n",
    "    i = x ** 0.5\n",
    "    return i\n",
    "\n",
    "\n",
    "print(square_root())\n",
    "\n",
    "# Loops, functions and appending\n",
    "mylist = []\n",
    "for i in range(1,5):\n",
    "    mylist.append(square_root(i))\n",
    "print(mylist)"
   ]
  },
  {
   "cell_type": "markdown",
   "metadata": {},
   "source": [
    "#### <font color='midnightblue'> Example: Arguments and mutability"
   ]
  },
  {
   "cell_type": "code",
   "execution_count": null,
   "metadata": {
    "collapsed": false
   },
   "outputs": [],
   "source": [
    "def update_integer(i):\n",
    "    # attempt to update i (integers) are immutable\n",
    "    i += 1\n",
    "\n",
    "def update_list_end(arglist):\n",
    "    arglist[-1] = 50   # Lists are mutable: updates args directly!\n",
    "\n",
    "a = 1\n",
    "update_integer(a)\n",
    "print(a)\n",
    "\n",
    "mylist = [0, 1, 2, 3, 4]\n",
    "update_list_end(mylist)\n",
    "print(mylist)"
   ]
  },
  {
   "cell_type": "markdown",
   "metadata": {},
   "source": [
    "# <font color='dodgerblue'> Plotting\n",
    "### <font color='mediumblue'> Matplotlib\n",
    "#### <font color='midnightblue'> Example: Simple Plot"
   ]
  },
  {
   "cell_type": "code",
   "execution_count": null,
   "metadata": {
    "collapsed": false
   },
   "outputs": [],
   "source": [
    "import matplotlib.pyplot as plt\n",
    "\n",
    "x = np.linspace(0, 2*np.pi)\n",
    "y = np.sin(x)\n",
    "\n",
    "fig = plt.figure(figsize=(12, 5))\n",
    "ax = fig.add_subplot(111)\n",
    "ax.plot(x, y,'o-')\n",
    "ax.margins(0.1)\n",
    "ax.set_title('2D plot')\n",
    "ax.set_xlabel('$x$')\n",
    "ax.set_ylabel(r'$sin(x)$')\n",
    "ax.plot()\n"
   ]
  },
  {
   "cell_type": "markdown",
   "metadata": {},
   "source": [
    "#### <font color='midnightblue'> Example: Labels, ticks and other appenditories"
   ]
  },
  {
   "cell_type": "code",
   "execution_count": null,
   "metadata": {
    "collapsed": true
   },
   "outputs": [],
   "source": [
    "xtick_values = np.linspace(0, 2*np.pi, 5)\n",
    "xtick_labels = ['$0$', r'$\\frac{\\pi}{2}$', r'$\\pi$', r'$\\frac{3\\pi}{2}$',\n",
    "             r'$2\\pi$']\n",
    "fig = plt.figure(figsize=(12, 5))\n",
    "ax = fig.add_subplot(111); ax.plot(x, y,'-o')\n",
    "ax.set_title('2D plot')\n",
    "ax.margins(0.1)\n",
    "ax.set_xlabel('$x$');  ax.set_ylabel(r'$sin(x)$')\n",
    "ax.set_xticks(xtick_values)\n",
    "ax.set_xticklabels(xtick_labels, fontsize=25);"
   ]
  },
  {
   "cell_type": "markdown",
   "metadata": {},
   "source": [
    "# <font color='dodgerblue'> Reading from and writing to files\n"
   ]
  },
  {
   "cell_type": "code",
   "execution_count": null,
   "metadata": {
    "collapsed": false
   },
   "outputs": [],
   "source": [
    "f1 = open('textfile.txt', 'r+')\n",
    "print(f1.read())\n",
    "f1.close()"
   ]
  },
  {
   "cell_type": "code",
   "execution_count": null,
   "metadata": {
    "collapsed": false
   },
   "outputs": [],
   "source": [
    "with open('textfile.txt', 'r+') as f1:\n",
    "    print(f1.readline())\n",
    "    print(f1.readline())"
   ]
  },
  {
   "cell_type": "code",
   "execution_count": null,
   "metadata": {
    "collapsed": false
   },
   "outputs": [],
   "source": [
    "with open('textfile.txt', 'r+') as f1:\n",
    "    print(f1.readlines())"
   ]
  },
  {
   "cell_type": "code",
   "execution_count": null,
   "metadata": {
    "collapsed": false
   },
   "outputs": [],
   "source": [
    "with open('textfile.txt', 'r+') as f1:\n",
    "    print(list(f1))"
   ]
  },
  {
   "cell_type": "code",
   "execution_count": null,
   "metadata": {
    "collapsed": false
   },
   "outputs": [],
   "source": [
    "with open('textfile.txt', 'r+') as f1:\n",
    "    for line in f1:\n",
    "        print(line)"
   ]
  },
  {
   "cell_type": "code",
   "execution_count": null,
   "metadata": {
    "collapsed": false
   },
   "outputs": [],
   "source": [
    "with open('textfile.txt', 'r+') as f1:\n",
    "    f1.write('Hello')\n",
    "    print(f1.readline())\n",
    "    f1.write('Second Hello')\n",
    "    print(f1.read())"
   ]
  },
  {
   "cell_type": "code",
   "execution_count": null,
   "metadata": {
    "collapsed": false
   },
   "outputs": [],
   "source": [
    "with open('textfile.txt', 'r+') as f1:\n",
    "    print(f1.read())"
   ]
  },
  {
   "cell_type": "code",
   "execution_count": null,
   "metadata": {
    "collapsed": false
   },
   "outputs": [],
   "source": [
    "with open('textfile.txt', 'r+') as f1:\n",
    "    lines = f1.readlines()\n",
    "    del lines[-1]\n",
    "    lines[2] = 'I have changed the third line\\n'\n",
    "    \n",
    "with open('textfile.txt', 'w') as f1:\n",
    "    f1.writelines(lines)\n",
    "    f1.seek(0)\n",
    "    \n",
    "with open('textfile.txt') as f1:\n",
    "    print(f1.read())"
   ]
  }
 ],
 "metadata": {
  "kernelspec": {
   "display_name": "Python 3",
   "language": "python",
   "name": "python3"
  },
  "language_info": {
   "codemirror_mode": {
    "name": "ipython",
    "version": 3
   },
   "file_extension": ".py",
   "mimetype": "text/x-python",
   "name": "python",
   "nbconvert_exporter": "python",
   "pygments_lexer": "ipython3",
   "version": "3.6.0"
  }
 },
 "nbformat": 4,
 "nbformat_minor": 2
}
