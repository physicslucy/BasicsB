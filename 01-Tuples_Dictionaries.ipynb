{
 "cells": [
  {
   "cell_type": "markdown",
   "metadata": {},
   "source": [
    "# Tuples and Dictionaries Exercise"
   ]
  },
  {
   "cell_type": "code",
   "execution_count": null,
   "metadata": {
    "collapsed": false
   },
   "outputs": [],
   "source": [
    "import matplotlib.pyplot as plt\n",
    "import numpy as np\n",
    "import pickle\n",
    "%matplotlib inline"
   ]
  },
  {
   "cell_type": "markdown",
   "metadata": {},
   "source": [
    "The purpose of the exersise is to manipulate and plot the current weather of a number of European cities. The data has been downloaded from [Openweather](http://openweathermap.org/), and has been loaded for you below using the given function `read_weather`.\n",
    "\n",
    "The function returns a list of dictionaries, each of which contains the name of the cities along with a large number of the weather parameters. Before you start the exercise, print various parts of `Data` familiarise yourself with the content.\n"
   ]
  },
  {
   "cell_type": "code",
   "execution_count": null,
   "metadata": {
    "collapsed": false
   },
   "outputs": [],
   "source": [
    "def read_weather():\n",
    "    with open('data/weather.pkl', 'rb') as f:\n",
    "        return pickle.load(f)"
   ]
  },
  {
   "cell_type": "code",
   "execution_count": null,
   "metadata": {
    "collapsed": false
   },
   "outputs": [],
   "source": [
    "# The file weather.pkl contains a list of dictionaries \n",
    "Data = read_weather()\n",
    "Data[0]"
   ]
  },
  {
   "cell_type": "markdown",
   "metadata": {},
   "source": [
    "### Part 1: Temperature\n",
    "\n",
    "1. We want to manipulate the data so it is easier to plot. Create a new dictionary with the country names as keys (`name` entries in `Data`) and the values being the tuple of `(lattitude, temperature)` corresponding to that country.\n",
    "    * *You will need a for loop*\n",
    "\n",
    "2. Plot the temperature of the cities (y) vs lattitude (x)\n",
    "    * You could either do this by scattering the data or using a for loop. The easier approach would be to use a for loop and the 'x' marker.\n",
    "    * Also try to add the city names to the scattered markers using `ax.annotate`"
   ]
  },
  {
   "cell_type": "code",
   "execution_count": null,
   "metadata": {
    "collapsed": false
   },
   "outputs": [],
   "source": [
    "# Implement Q1 part 1 here:\n",
    "# -------------------------\n",
    "# tempr_dict = ..."
   ]
  },
  {
   "cell_type": "code",
   "execution_count": null,
   "metadata": {
    "collapsed": false
   },
   "outputs": [],
   "source": [
    "# Run this cell to tests if you have completed part 1 correctly:\n",
    "assert(all(key in tempr_dict for key in ['Berlin', 'Kiev', 'London', 'Moscow', 'Southampton'])),\\\n",
    "    'keys of your weather dictionary should be Berlin, Kiev, London, Moscow, Southampton'\n",
    "\n",
    "assert(len(tempr_dict['Moscow']) == 2), \"Entries in your dictionary should be a tuple of two values\""
   ]
  },
  {
   "cell_type": "code",
   "execution_count": null,
   "metadata": {
    "collapsed": false
   },
   "outputs": [],
   "source": [
    "# Part 2:\n",
    "\n"
   ]
  },
  {
   "cell_type": "markdown",
   "metadata": {},
   "source": [
    "### Optional extension: Weather\n",
    "Temperature is not the only parameter in the data. By extending the code you wrote above, plot the remaining variables \n",
    "\n",
    "1. Instead of storing the value in your dictionary as `(lattitude, temp)`, use the tuple (`lattitude, main`) where `main` is the dictionary containing `temp`, `pressure` and `humidity` etc. entries from the original `Data` list\n",
    "\n",
    "2. Write a function which takes the weather dictionary and a string variable name (e.g. `'temp'`, `'pressure'`...) as arguments and plots the chosen variable against lattitude for all countries in the weather dictionary\n",
    "    * Start from your plotting code in the previous question"
   ]
  },
  {
   "cell_type": "code",
   "execution_count": null,
   "metadata": {
    "collapsed": false
   },
   "outputs": [],
   "source": [
    "# Implement Q2 pt 1 here\n",
    "# -----------------------\n",
    "# weather_dict = ..."
   ]
  },
  {
   "cell_type": "code",
   "execution_count": null,
   "metadata": {
    "collapsed": false
   },
   "outputs": [],
   "source": [
    "# Implement Q2 pt 2 here\n",
    "# -----------------------\n",
    "def plot_weather_lattitude(weather_dictionary, var_name):\n",
    "#     YOUR CODE HERE\n",
    "    \n",
    "    \n",
    "    return None"
   ]
  },
  {
   "cell_type": "code",
   "execution_count": null,
   "metadata": {
    "collapsed": false
   },
   "outputs": [],
   "source": [
    "# Here are the variables that should be in your data\n",
    "weather_vars = ['temp', 'temp_max', 'temp_min', 'pressure', 'humidity']\n",
    "\n",
    "# Loop over the variable strings above and plot them using your\n",
    "#   plot_weather_lattitude function:\n",
    "for var_name in weather_vars:\n",
    "    plot_weather_lattitude(weather_dict, var_name)"
   ]
  },
  {
   "cell_type": "markdown",
   "metadata": {
    "collapsed": true
   },
   "source": [
    "## [Solutions](../soln/01-Tuples_Dictionaries.ipynb)"
   ]
  }
 ],
 "metadata": {
  "kernelspec": {
   "display_name": "Python 3",
   "language": "python",
   "name": "python3"
  },
  "language_info": {
   "codemirror_mode": {
    "name": "ipython",
    "version": 3
   },
   "file_extension": ".py",
   "mimetype": "text/x-python",
   "name": "python",
   "nbconvert_exporter": "python",
   "pygments_lexer": "ipython3",
   "version": "3.6.0"
  }
 },
 "nbformat": 4,
 "nbformat_minor": 0
}
