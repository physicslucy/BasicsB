{
 "cells": [
  {
   "cell_type": "markdown",
   "metadata": {
    "slideshow": {
     "slide_type": "slide"
    }
   },
   "source": [
    "# NGCM Summer Academy 2017:\n",
    "\n",
    "## Intermediate Python\n",
    "\n",
    "Lucy Upton and Ryan Pepper\n",
    "\n",
    "lru1e15@soton.ac.uk\n",
    "\n",
    "ryan.pepper@soton.ac.uk\n",
    "\n",
    "<img style=\"float: left;\" src=\"images/ngcm.png\">\n",
    "<img style=\"float: right;\" src=\"images/epsrc_logo.jpg\">"
   ]
  },
  {
   "cell_type": "markdown",
   "metadata": {},
   "source": [
    "# <font color='dodgerblue'>Introduction"
   ]
  },
  {
   "cell_type": "markdown",
   "metadata": {
    "slideshow": {
     "slide_type": "subslide"
    }
   },
   "source": [
    "### <font color='mediumblue'>Prerequisites<font>\n",
    "\n",
    "* Python $>=$ 3.4\n",
    "* Jupyter (Notebook)\n",
    "* Numpy module\n",
    "* Matplotlib module\n",
    "\n",
    "If you are following this course and do not know how to obtain the above requirements, see [Setup Instructions](http://ngcm.github.io/summer-academy-2016-basics/indexpages/prerequisites.html).\n",
    "\n",
    "\n",
    "### <font color='mediumblue'> Material <font>\n",
    "\n",
    "* If you missed the basics, try these:\n",
    "    - [Hans Fangohr Python Book](http://www.southampton.ac.uk/~fangohr/training/python/pdfs/Python-for-Computational-Science-and-Engineering.pdf)\n",
    "    - [Software Saved Basics Course](http://softwaresaved.github.io/NGCMGSoton-2015-06-21/novice/python/index.html) \n",
    "    \n",
    "\n",
    "\n",
    "### <font color='mediumblue'>Objectives<font>\n",
    "\n",
    "- 2 sessions: \n",
    "    - 10:00-11:00 Basics \n",
    "    - 11:30-13:00 Object Oriented Programming (OOP)\n",
    "    \n",
    "\n",
    "\n",
    "\n",
    "###  <font color='mediumblue'> Material Outline </font>  \n",
    "\n",
    "#### <font color='midnightblue'>Basics Revision\n",
    "   * Lists\n",
    "   - Tuples\n",
    "   - Numpy arrays\n",
    "   - Dictionaries\n",
    "   - For loops\n",
    "   - Functions\n",
    "   - Matplotlib (Plotting)\n",
    "   \n",
    "#### <font color='midnightblue'>Object Oriented Programming\n",
    "   * Classes\n",
    "   - Initialization and `__init__`, `self`\n",
    "   - Encapsulation\n",
    "   - Inheritance\n",
    "   - Magic operators"
   ]
  },
  {
   "cell_type": "markdown",
   "metadata": {},
   "source": [
    "# <font color='dodgerblue'>  Hello World for Jupyter Notebook\n",
    "1. In command line, type: jupyter notebook &\n",
    "2. Click: New, Python 3\n",
    "3. Type: \n",
    "    `print(Hello world!)`\n",
    "4. Press: shift+enter"
   ]
  },
  {
   "cell_type": "markdown",
   "metadata": {},
   "source": [
    "# <font color='dodgerblue'>  Data Storage"
   ]
  },
  {
   "cell_type": "markdown",
   "metadata": {
    "slideshow": {
     "slide_type": "subslide"
    }
   },
   "source": [
    "### <font color='mediumblue'>Lists\n",
    "Lists are:\n",
    "* Defined with square brackets\n",
    "* *Mutable* \n",
    "* Able to have mixed data types \n",
    "* Indexed\n",
    "* Able to be sliced\n",
    "* Useful for sequential data\n",
    "\n",
    "#### <font color='midnightblue'> Example: Indexing & Slicing"
   ]
  },
  {
   "cell_type": "markdown",
   "metadata": {},
   "source": [
    "#### <font color='midnightblue'> Example: Mutable & Mixed Data Types"
   ]
  },
  {
   "cell_type": "markdown",
   "metadata": {},
   "source": [
    "### <font color='mediumblue'>Tuples \n",
    "Tuples are:\n",
    "* Defined with parenthesis\n",
    "* *Immutable* \n",
    "* Able to have mixed data types\n",
    "* Indexed\n",
    "* Able to be sliced\n",
    "* Useful for *structured* data\n",
    "\n",
    "#### <font color='midnightblue'> Example: Immutable"
   ]
  },
  {
   "cell_type": "markdown",
   "metadata": {},
   "source": [
    "#### <font color='midnightblue'> Why use tuples? \n",
    "1. Tuples are faster than lists as they use fixed memory.\n",
    "2. Tuples are useful good for *structured* data as they keep the same structure (e.g. length) indexing"
   ]
  },
  {
   "cell_type": "markdown",
   "metadata": {},
   "source": [
    "#### <font color='midnightblue'> Example: Tuples are faster"
   ]
  },
  {
   "cell_type": "markdown",
   "metadata": {},
   "source": [
    "#### <font color='midnightblue'> Example: Python is Call by value"
   ]
  },
  {
   "cell_type": "markdown",
   "metadata": {},
   "source": [
    "### <font color='mediumblue'> Numpy Arrays\n",
    "Numpy Arrays are not included by default.\n",
    "\n",
    "To use numpy array, you need to include the following line of code:\n",
    "\n",
    "import numpy as np\n",
    "\n",
    "For a tutorial on modules, visit: https://docs.python.org/3/tutorial/modules.html\n",
    "\n",
    "Numpy arrays are are:\n",
    "* Defined using np.array()\n",
    "* Mutable \n",
    "* Indexed\n",
    "* NOT able to have mixed data types - numpy arrays are homogeneous and contain elements of the same dtype.\n",
    "\n",
    "    dtypes are data type objects used within numpy. There are built in dtypes representing \n",
    "       - np.int8, np.int16, np.int32, np.uint8, np.float32, np.bool_, np.complex_, etc...\n",
    "     Also you can create a dtype to suit your needs, e.g. structures of fields of the built in dtypes.\n",
    "     For more information, see the documentation: https://docs.scipy.org/doc/numpy-1.12.0/reference/arrays.dtypes.html\n",
    "* Useful for linear algebra - mathematical operations act quickly on numpy arrays\n",
    "* Allow integration between C/C++ and Fortran\n",
    "\n",
    "See user guide: https://docs.scipy.org/doc/numpy-dev/user/\n",
    "\n",
    "See other documentation: https://docs.scipy.org/doc/\n",
    "\n",
    "If you're a MATLAB user, you may find this page useful, which sets out the difference between MATLAB and NumPy syntax:\n",
    "\n",
    "https://docs.scipy.org/doc/numpy-dev/user/numpy-for-matlab-users.html\n",
    "#### <font color='midnightblue'> Example: How to use"
   ]
  },
  {
   "cell_type": "markdown",
   "metadata": {},
   "source": [
    "There are many mathematical functions that can be applied to arrays which come built into the numpy package.\n",
    "\n",
    "A list of mathematical functions available within numpy is found here: https://docs.scipy.org/doc/numpy-1.12.0/reference/routines.math.html\n",
    "\n",
    "#### <font color='midnightblue'> Example: Useful functions"
   ]
  },
  {
   "cell_type": "markdown",
   "metadata": {},
   "source": [
    "Numpy arrays are also useful for working with matrices and other 2d arrays and displaying these.\n",
    " \n",
    " #### <font color='midnightblue'> Example: 2d Arrays"
   ]
  },
  {
   "cell_type": "markdown",
   "metadata": {},
   "source": [
    "Numpy can also be used to create numpy arrays from data in a file using np.loadtxt().\n",
    "The file must contain data in rows with equal numbers of entries.\n",
    " \n",
    "#### <font color='midnightblue'> Example: Loading data with np.loadtxt()"
   ]
  },
  {
   "cell_type": "markdown",
   "metadata": {},
   "source": [
    "### <font color='mediumblue'> Dictionaries\n",
    "Dictionaries are:\n",
    "* Groups of key-value pairs\n",
    "* Defined with curly braces or with dict() on some list\n",
    "* Mutable - you can add pairs to a dictionary after defining it\n",
    "* Ordering follows hash table rules\n",
    "* Able to have mixed data types\n",
    "\n",
    "\n",
    "#### <font color='midnightblue'> Example: How to use"
   ]
  },
  {
   "cell_type": "markdown",
   "metadata": {},
   "source": [
    "#### <font color='midnightblue'> Example: Mutable"
   ]
  },
  {
   "cell_type": "markdown",
   "metadata": {},
   "source": [
    "#### <font color='midnightblue'> Example: Iteration - we will see for loops here!"
   ]
  },
  {
   "cell_type": "markdown",
   "metadata": {},
   "source": [
    "# <font color='dodgerblue'> Functions\n",
    "* **`def`** followed by function name and parameters in a parenthesis\n",
    "* **`return output_var(s)`** ends the function\n",
    "* Args parsed by assignment: Mutability dictates whether the function can update args directly"
   ]
  },
  {
   "cell_type": "markdown",
   "metadata": {},
   "source": [
    "#### <font color='midnightblue'> Example: Simple function"
   ]
  },
  {
   "cell_type": "markdown",
   "metadata": {},
   "source": [
    "#### <font color='midnightblue'> Example: Arguments and mutability"
   ]
  },
  {
   "cell_type": "markdown",
   "metadata": {},
   "source": [
    "# <font color='dodgerblue'> Plotting"
   ]
  },
  {
   "cell_type": "markdown",
   "metadata": {},
   "source": [
    "### <font color='mediumblue'> Matplotlib\n",
    "\n",
    "The most common plotting module is matplotlib.\n",
    "\n",
    "It's simple to use but can be also be used to produce publication quality plots.\n",
    "\n",
    "It can be used with LaTex formatting.\n",
    "\n",
    "The best way to understand is to see some examples: \n",
    "\n",
    "#### <font color='midnightblue'> Example: Simple Plot"
   ]
  },
  {
   "cell_type": "markdown",
   "metadata": {},
   "source": [
    "#### <font color='midnightblue'> Example: Labels, ticks and other appenditories"
   ]
  },
  {
   "cell_type": "markdown",
   "metadata": {},
   "source": [
    "For a tutorial on matplotlib.pyplot, try: https://matplotlib.org/users/pyplot_tutorial.html\n",
    "\n",
    "This has examples of line graphs, scatter graphs and histograms.\n",
    "\n",
    "For more details and examples, visit: https://matplotlib.org/contents.html"
   ]
  },
  {
   "cell_type": "markdown",
   "metadata": {},
   "source": [
    "# <font color='dodgerblue'> Reading from and writing to files\n",
    "\n",
    "The function open() can be used to read from, write to or append a file.\n",
    "It creates a file object\n",
    "\n",
    "It takes two arguments, the filename and the mode indicating what you want to do with the file:\n",
    "* 'r' for reading (this is the default)\n",
    "* 'r+' for reading and writing\n",
    "* 'w' for writing\n",
    "* 'a' for appending\n",
    "\n",
    "\n",
    "\n",
    "Once a file object is created, you can then use many functions including the following:\n",
    "* read()\n",
    "* readline()\n",
    "* readlines()\n",
    "- list()\n",
    "- iterate over lines \n",
    "- write()\n",
    "\n",
    "For a tutorial on input and output, visit: https://docs.python.org/3/tutorial/inputoutput.html\n",
    "\n",
    "#### <font color='midnightblue'> Examples: "
   ]
  },
  {
   "cell_type": "markdown",
   "metadata": {},
   "source": [
    "# <font color='dodgerblue'> Other common modules\n",
    "\n",
    "So far we have imported numpy and matplotlib.\n",
    "In python there is lots of pre-written code to take advantage of, usually by importing modules. \n",
    "\n",
    "\n",
    "\n",
    "Other common modules you may come across are :\n",
    "    - math: for common maths functions and numerical constants\n",
    "    - scipy: a library of algorithms and mathematical tools.\n",
    "             For example there are built in algorithms for minimising/maximising functions\n",
    "\n",
    "For a tutorial on modules, visit: https://docs.python.org/3/tutorial/modules.html"
   ]
  }
 ],
 "metadata": {
  "kernelspec": {
   "display_name": "Python 3",
   "language": "python",
   "name": "python3"
  },
  "language_info": {
   "codemirror_mode": {
    "name": "ipython",
    "version": 3
   },
   "file_extension": ".py",
   "mimetype": "text/x-python",
   "name": "python",
   "nbconvert_exporter": "python",
   "pygments_lexer": "ipython3",
   "version": "3.6.0"
  }
 },
 "nbformat": 4,
 "nbformat_minor": 1
}
